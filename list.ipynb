{
 "cells": [
  {
   "cell_type": "code",
   "execution_count": 5,
   "metadata": {},
   "outputs": [
    {
     "name": "stdout",
     "output_type": "stream",
     "text": [
      "[2, 3, 5, 7]\n",
      "[['J', 'Q', 'K'], ['2', '2', '2'], ['6', 'A', 'K']]\n",
      "Neptune\n",
      "Uranus\n"
     ]
    }
   ],
   "source": [
    "primes = [2, 3, 5, 7]\n",
    "planets = ['Mercury', 'Venus', 'Earth', 'Mars', 'Jupiter', 'Saturn', 'Uranus', 'Neptune']\n",
    "hands = [\n",
    "    ['J', 'Q', 'K'],\n",
    "    ['2', '2', '2'],\n",
    "    ['6', 'A', 'K'], \n",
    "]\n",
    "print(primes)\n",
    "print(hands)\n",
    "print(planets[-1])\n",
    "print(planets[-2])"
   ]
  },
  {
   "cell_type": "code",
   "execution_count": 8,
   "metadata": {},
   "outputs": [
    {
     "name": "stdout",
     "output_type": "stream",
     "text": [
      "['Mercury', 'Venus', 'Earth']\n",
      "['Mercury', 'Venus', 'Earth']\n",
      "['Malacandra', 'Jupiter', 'Saturn', 'Uranus', 'Neptune']\n",
      "['Venus', 'Earth', 'Malacandra', 'Jupiter', 'Saturn', 'Uranus']\n",
      "['Saturn', 'Uranus', 'Neptune']\n"
     ]
    }
   ],
   "source": [
    "print(planets[0:3])\n",
    "print(planets[:3])\n",
    "print(planets[3:])\n",
    "print(planets[1:-1])\n",
    "print(planets[-3:])\n"
   ]
  },
  {
   "cell_type": "code",
   "execution_count": 9,
   "metadata": {},
   "outputs": [
    {
     "name": "stdout",
     "output_type": "stream",
     "text": [
      "['Mercury', 'Venus', 'Earth', 'Malacandra', 'Jupiter', 'Saturn', 'Uranus', 'Neptune']\n",
      "['Mur', 'Vee', 'Ur', 'Malacandra', 'Jupiter', 'Saturn', 'Uranus', 'Neptune']\n"
     ]
    }
   ],
   "source": [
    "planets[3] = 'Malacandra'\n",
    "print(planets)\n",
    "planets[:3] = ['Mur', 'Vee', 'Ur']\n",
    "print(planets)\n"
   ]
  },
  {
   "cell_type": "code",
   "execution_count": 12,
   "metadata": {},
   "outputs": [
    {
     "name": "stdout",
     "output_type": "stream",
     "text": [
      "8\n",
      "['Jupiter', 'Malacandra', 'Mur', 'Neptune', 'Saturn', 'Ur', 'Uranus', 'Vee']\n",
      "17\n",
      "7\n"
     ]
    }
   ],
   "source": [
    "print(len(planets))\n",
    "print(sorted(planets))\n",
    "primes = [2, 3, 5, 7]\n",
    "print(sum(primes))\n",
    "print(max(primes))"
   ]
  },
  {
   "cell_type": "code",
   "execution_count": 13,
   "metadata": {},
   "outputs": [
    {
     "name": "stdout",
     "output_type": "stream",
     "text": [
      "0\n",
      "3.0\n"
     ]
    }
   ],
   "source": [
    "x = 12\n",
    "# x is a real number, so its imaginary part is 0.\n",
    "print(x.imag)\n",
    "# Here's how to make a complex number, in case you've ever been curious:\n",
    "c = 12 + 3j\n",
    "print(c.imag)"
   ]
  },
  {
   "cell_type": "code",
   "execution_count": 15,
   "metadata": {},
   "outputs": [
    {
     "name": "stdout",
     "output_type": "stream",
     "text": [
      "['Mur', 'Vee', 'Ur', 'Malacandra', 'Jupiter', 'Saturn', 'Uranus', 'Neptune', 'Pluto', 'Pluto']\n"
     ]
    },
    {
     "data": {
      "text/plain": [
       "'Pluto'"
      ]
     },
     "execution_count": 15,
     "metadata": {},
     "output_type": "execute_result"
    }
   ],
   "source": [
    "planets.append('Pluto')\n",
    "print(planets)\n",
    "planets.pop()"
   ]
  },
  {
   "cell_type": "code",
   "execution_count": null,
   "metadata": {},
   "outputs": [],
   "source": [
    "t = (1, 2, 3) #tuple\n",
    "t[0] = 100 #tuple cant be modified"
   ]
  }
 ],
 "metadata": {
  "kernelspec": {
   "display_name": "Python 3",
   "language": "python",
   "name": "python3"
  },
  "language_info": {
   "codemirror_mode": {
    "name": "ipython",
    "version": 3
   },
   "file_extension": ".py",
   "mimetype": "text/x-python",
   "name": "python",
   "nbconvert_exporter": "python",
   "pygments_lexer": "ipython3",
   "version": "3.11.4"
  },
  "orig_nbformat": 4
 },
 "nbformat": 4,
 "nbformat_minor": 2
}
